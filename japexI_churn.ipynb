{
  "nbformat": 4,
  "nbformat_minor": 0,
  "metadata": {
    "colab": {
      "name": "japexI_churn",
      "provenance": [],
      "collapsed_sections": [],
      "authorship_tag": "ABX9TyOcvqZg3j8vxTJgV9vKWM0R",
      "include_colab_link": true
    },
    "kernelspec": {
      "name": "python3",
      "display_name": "Python 3"
    }
  },
  "cells": [
    {
      "cell_type": "markdown",
      "metadata": {
        "id": "view-in-github",
        "colab_type": "text"
      },
      "source": [
        "<a href=\"https://colab.research.google.com/github/scudilio/Churn_model/blob/master/japexI_churn.ipynb\" target=\"_parent\"><img src=\"https://colab.research.google.com/assets/colab-badge.svg\" alt=\"Open In Colab\"/></a>"
      ]
    },
    {
      "cell_type": "markdown",
      "metadata": {
        "id": "fjL6QkpE5j2l",
        "colab_type": "text"
      },
      "source": [
        "\n",
        "#**PARTE II: Como utilizar modelos de Machine Learning para reduzir o Churn**"
      ]
    },
    {
      "cell_type": "markdown",
      "metadata": {
        "id": "Gn7g5iMC8L_L",
        "colab_type": "text"
      },
      "source": [
        "Empresas que têm a cultura data driven maximizam seus resultados através de informações extraídas dos dados. Ou seja, utilizam os dados para extrair informações e usam as informações para tomar decisões. \n",
        "\n",
        "\n",
        "\"*Seus clientes mais insatisfeitos são sua maior fonte de **aprendizado** (Bill Gates).*\"\n",
        "\n",
        "A taxa de retenção de clientes é um bom indicativo de qualidade do seu produto/serviço. Se o produto/serviço não é de qualidade, você irá observar uma porcentagem alta de clientes deixando de comprar ou trocando de empresa, ou seja, uma alta taxa de Churn. \n",
        "\n",
        "Mas quais são as características que leva um cliente a dar o Churn? \n",
        "\n",
        "Esse projeto de Data Science seguiremos essas etapas\n",
        "\n",
        "1.   Entendimento do Problema\n",
        "2.   Obtenção dos dados\n",
        "3.   Análise Exploratória e Visualização dos dados \n",
        "4.   Pré-processamento\n",
        "5.   Modelos de Machine Learning\n",
        "6.   Avaliação do modelo \n",
        "\n"
      ]
    },
    {
      "cell_type": "markdown",
      "metadata": {
        "id": "wL1D3LkK89dv",
        "colab_type": "text"
      },
      "source": [
        "## **2. Obtenção do conjunto de dados**\n",
        "\n",
        " Os dados utilizados aqui foram extraídos do Kaggle e são dados de clientes de uma agência bancária. Utilizaremos o Google Colab, o python na nuvem, para fazer as análises.\n",
        "Link dataset:[ https://www.kaggle.com/shubh0799/churn-modelling\n",
        "]\n",
        "###**Permitindo o acesso do Google Colab ao Drive**\n",
        "\n",
        "Para importar os dados, que estão salvo no Google Drive, é necessário permitir o acesso do Colab. Para isso precisamos,\n",
        "1. rodar os comandos abaixo, \n",
        "2. clicar na URL que irá aparecer, \n",
        "3. permitir o acesso ao drive  \n",
        "4. copiar e colar o código de acesso no Colab. "
      ]
    },
    {
      "cell_type": "code",
      "metadata": {
        "id": "QblfrqEa5iaq",
        "colab_type": "code",
        "colab": {}
      },
      "source": [
        "#Acesso ao drive\n",
        "from google.colab import drive\n",
        "drive.mount('/content/drive') "
      ],
      "execution_count": null,
      "outputs": []
    },
    {
      "cell_type": "markdown",
      "metadata": {
        "id": "bnh0mBqwRGdO",
        "colab_type": "text"
      },
      "source": [
        "###**Importando os dados**"
      ]
    },
    {
      "cell_type": "markdown",
      "metadata": {
        "id": "BMUaSkOFSLuo",
        "colab_type": "text"
      },
      "source": [
        "Para fazer as análise é necessário dos dados, assim precisamos importar a biblioteca pandas para processar os dados."
      ]
    },
    {
      "cell_type": "code",
      "metadata": {
        "id": "eQngMnNjSKpn",
        "colab_type": "code",
        "colab": {}
      },
      "source": [
        "import pandas as pd"
      ],
      "execution_count": null,
      "outputs": []
    },
    {
      "cell_type": "markdown",
      "metadata": {
        "id": "ph5BtTTsSyfN",
        "colab_type": "text"
      },
      "source": [
        "A importação dos dados é feita utilizando os comandos a seguir"
      ]
    },
    {
      "cell_type": "code",
      "metadata": {
        "id": "7vZAjUtDRDkF",
        "colab_type": "code",
        "colab": {
          "base_uri": "https://localhost:8080/",
          "height": 379
        },
        "outputId": "f3d76b42-e735-43e8-92fe-3a47156e5f54"
      },
      "source": [
        "##IMPORTANDO ARQUIVOS\n",
        "#escrevendo em um arquivo csv\n",
        "url = \"https://raw.githubusercontent.com/scudilio/Churn_model/master/dataset/Churn_Modelling.csv\"\n",
        "df= pd.read_csv(url)\n",
        "df.head(10) #visualizando as 10 primeiras linhas do dataset"
      ],
      "execution_count": null,
      "outputs": [
        {
          "output_type": "execute_result",
          "data": {
            "text/html": [
              "<div>\n",
              "<style scoped>\n",
              "    .dataframe tbody tr th:only-of-type {\n",
              "        vertical-align: middle;\n",
              "    }\n",
              "\n",
              "    .dataframe tbody tr th {\n",
              "        vertical-align: top;\n",
              "    }\n",
              "\n",
              "    .dataframe thead th {\n",
              "        text-align: right;\n",
              "    }\n",
              "</style>\n",
              "<table border=\"1\" class=\"dataframe\">\n",
              "  <thead>\n",
              "    <tr style=\"text-align: right;\">\n",
              "      <th></th>\n",
              "      <th>RowNumber</th>\n",
              "      <th>CustomerId</th>\n",
              "      <th>Surname</th>\n",
              "      <th>CreditScore</th>\n",
              "      <th>Geography</th>\n",
              "      <th>Gender</th>\n",
              "      <th>Age</th>\n",
              "      <th>Tenure</th>\n",
              "      <th>Balance</th>\n",
              "      <th>NumOfProducts</th>\n",
              "      <th>HasCrCard</th>\n",
              "      <th>IsActiveMember</th>\n",
              "      <th>EstimatedSalary</th>\n",
              "      <th>Exited</th>\n",
              "    </tr>\n",
              "  </thead>\n",
              "  <tbody>\n",
              "    <tr>\n",
              "      <th>0</th>\n",
              "      <td>1</td>\n",
              "      <td>15634602</td>\n",
              "      <td>Hargrave</td>\n",
              "      <td>619</td>\n",
              "      <td>France</td>\n",
              "      <td>Female</td>\n",
              "      <td>42</td>\n",
              "      <td>2</td>\n",
              "      <td>0.00</td>\n",
              "      <td>1</td>\n",
              "      <td>1</td>\n",
              "      <td>1</td>\n",
              "      <td>101348.88</td>\n",
              "      <td>1</td>\n",
              "    </tr>\n",
              "    <tr>\n",
              "      <th>1</th>\n",
              "      <td>2</td>\n",
              "      <td>15647311</td>\n",
              "      <td>Hill</td>\n",
              "      <td>608</td>\n",
              "      <td>Spain</td>\n",
              "      <td>Female</td>\n",
              "      <td>41</td>\n",
              "      <td>1</td>\n",
              "      <td>83807.86</td>\n",
              "      <td>1</td>\n",
              "      <td>0</td>\n",
              "      <td>1</td>\n",
              "      <td>112542.58</td>\n",
              "      <td>0</td>\n",
              "    </tr>\n",
              "    <tr>\n",
              "      <th>2</th>\n",
              "      <td>3</td>\n",
              "      <td>15619304</td>\n",
              "      <td>Onio</td>\n",
              "      <td>502</td>\n",
              "      <td>France</td>\n",
              "      <td>Female</td>\n",
              "      <td>42</td>\n",
              "      <td>8</td>\n",
              "      <td>159660.80</td>\n",
              "      <td>3</td>\n",
              "      <td>1</td>\n",
              "      <td>0</td>\n",
              "      <td>113931.57</td>\n",
              "      <td>1</td>\n",
              "    </tr>\n",
              "    <tr>\n",
              "      <th>3</th>\n",
              "      <td>4</td>\n",
              "      <td>15701354</td>\n",
              "      <td>Boni</td>\n",
              "      <td>699</td>\n",
              "      <td>France</td>\n",
              "      <td>Female</td>\n",
              "      <td>39</td>\n",
              "      <td>1</td>\n",
              "      <td>0.00</td>\n",
              "      <td>2</td>\n",
              "      <td>0</td>\n",
              "      <td>0</td>\n",
              "      <td>93826.63</td>\n",
              "      <td>0</td>\n",
              "    </tr>\n",
              "    <tr>\n",
              "      <th>4</th>\n",
              "      <td>5</td>\n",
              "      <td>15737888</td>\n",
              "      <td>Mitchell</td>\n",
              "      <td>850</td>\n",
              "      <td>Spain</td>\n",
              "      <td>Female</td>\n",
              "      <td>43</td>\n",
              "      <td>2</td>\n",
              "      <td>125510.82</td>\n",
              "      <td>1</td>\n",
              "      <td>1</td>\n",
              "      <td>1</td>\n",
              "      <td>79084.10</td>\n",
              "      <td>0</td>\n",
              "    </tr>\n",
              "    <tr>\n",
              "      <th>5</th>\n",
              "      <td>6</td>\n",
              "      <td>15574012</td>\n",
              "      <td>Chu</td>\n",
              "      <td>645</td>\n",
              "      <td>Spain</td>\n",
              "      <td>Male</td>\n",
              "      <td>44</td>\n",
              "      <td>8</td>\n",
              "      <td>113755.78</td>\n",
              "      <td>2</td>\n",
              "      <td>1</td>\n",
              "      <td>0</td>\n",
              "      <td>149756.71</td>\n",
              "      <td>1</td>\n",
              "    </tr>\n",
              "    <tr>\n",
              "      <th>6</th>\n",
              "      <td>7</td>\n",
              "      <td>15592531</td>\n",
              "      <td>Bartlett</td>\n",
              "      <td>822</td>\n",
              "      <td>France</td>\n",
              "      <td>Male</td>\n",
              "      <td>50</td>\n",
              "      <td>7</td>\n",
              "      <td>0.00</td>\n",
              "      <td>2</td>\n",
              "      <td>1</td>\n",
              "      <td>1</td>\n",
              "      <td>10062.80</td>\n",
              "      <td>0</td>\n",
              "    </tr>\n",
              "    <tr>\n",
              "      <th>7</th>\n",
              "      <td>8</td>\n",
              "      <td>15656148</td>\n",
              "      <td>Obinna</td>\n",
              "      <td>376</td>\n",
              "      <td>Germany</td>\n",
              "      <td>Female</td>\n",
              "      <td>29</td>\n",
              "      <td>4</td>\n",
              "      <td>115046.74</td>\n",
              "      <td>4</td>\n",
              "      <td>1</td>\n",
              "      <td>0</td>\n",
              "      <td>119346.88</td>\n",
              "      <td>1</td>\n",
              "    </tr>\n",
              "    <tr>\n",
              "      <th>8</th>\n",
              "      <td>9</td>\n",
              "      <td>15792365</td>\n",
              "      <td>He</td>\n",
              "      <td>501</td>\n",
              "      <td>France</td>\n",
              "      <td>Male</td>\n",
              "      <td>44</td>\n",
              "      <td>4</td>\n",
              "      <td>142051.07</td>\n",
              "      <td>2</td>\n",
              "      <td>0</td>\n",
              "      <td>1</td>\n",
              "      <td>74940.50</td>\n",
              "      <td>0</td>\n",
              "    </tr>\n",
              "    <tr>\n",
              "      <th>9</th>\n",
              "      <td>10</td>\n",
              "      <td>15592389</td>\n",
              "      <td>H?</td>\n",
              "      <td>684</td>\n",
              "      <td>France</td>\n",
              "      <td>Male</td>\n",
              "      <td>27</td>\n",
              "      <td>2</td>\n",
              "      <td>134603.88</td>\n",
              "      <td>1</td>\n",
              "      <td>1</td>\n",
              "      <td>1</td>\n",
              "      <td>71725.73</td>\n",
              "      <td>0</td>\n",
              "    </tr>\n",
              "  </tbody>\n",
              "</table>\n",
              "</div>"
            ],
            "text/plain": [
              "   RowNumber  CustomerId   Surname  ...  IsActiveMember EstimatedSalary Exited\n",
              "0          1    15634602  Hargrave  ...               1       101348.88      1\n",
              "1          2    15647311      Hill  ...               1       112542.58      0\n",
              "2          3    15619304      Onio  ...               0       113931.57      1\n",
              "3          4    15701354      Boni  ...               0        93826.63      0\n",
              "4          5    15737888  Mitchell  ...               1        79084.10      0\n",
              "5          6    15574012       Chu  ...               0       149756.71      1\n",
              "6          7    15592531  Bartlett  ...               1        10062.80      0\n",
              "7          8    15656148    Obinna  ...               0       119346.88      1\n",
              "8          9    15792365        He  ...               1        74940.50      0\n",
              "9         10    15592389        H?  ...               1        71725.73      0\n",
              "\n",
              "[10 rows x 14 columns]"
            ]
          },
          "metadata": {
            "tags": []
          },
          "execution_count": 21
        }
      ]
    },
    {
      "cell_type": "markdown",
      "metadata": {
        "id": "68oGLT7ySiEY",
        "colab_type": "text"
      },
      "source": [
        "No conjunto de dados temos as seguinte variáveis:\n",
        "\n",
        "* CustomerId: identificação do cliente;\n",
        "* Surname: sobrenome do cliente;\n",
        "* CreditScore: pontuação de credito, 0 alto risco de inadimplência e 1000 clientes com baixo risco de inadimplência;\n",
        "* Geography: país que o serviço é oferecido;\n",
        "* Gender: sexo do cliente;\n",
        "* Age: idade do cleinte;\n",
        "* Tenure: um indicativo de estabilidade no emprego, em que 0 significa pouca estabilidade e 10 muita estabilidade. \n",
        "* Balance: saldo da conta corrente;\n",
        "* NumOfProducts: número de produtos bancários adquiridos;\n",
        "* HasCrCard: se tem cartão de credito ou não, (Sim = 1 e Não = 0);\n",
        "* IsActiveMember: se é um cliente com conta ativa, (Ativo = 1) ;\n",
        "* EstimatedSalary: salário estimado;\n",
        "* Exited: cliente deixou de ser cliente do banco ou não (Churn = 1).\n",
        "\n",
        "\n",
        "##**3. Análise Exploratória dos dados - Visão geral do conjunto de dados**\n",
        "\n",
        "Nessa etapa, iremos \n",
        "\n",
        "* Identificar o tipo de cada variável (numérica, categórica, temporal)\n",
        "* Identificar qual é a variável target (alvo) para o nosso problema\n",
        "* Exploração dos dados (medidas descritivas, distribuição das variáveis)\n",
        "* Visualizar os dados para identificar o perfil dos clientes que deram Churn\n",
        "\n",
        "\n",
        "##**A.Identificando as variáveis presentes no dataset**\n",
        "\n",
        "Nessa etapa, o interesse é obter algumas informações sobre as variáveis, para isso utilizamos o método, DataFrame.info() :"
      ]
    },
    {
      "cell_type": "code",
      "metadata": {
        "id": "_TMw_vdAWH17",
        "colab_type": "code",
        "colab": {
          "base_uri": "https://localhost:8080/",
          "height": 374
        },
        "outputId": "6b744c5f-9ee5-4ebf-a4a0-c77fd6a7d18d"
      },
      "source": [
        "pd.DataFrame.info(df);"
      ],
      "execution_count": null,
      "outputs": [
        {
          "output_type": "stream",
          "text": [
            "<class 'pandas.core.frame.DataFrame'>\n",
            "RangeIndex: 10000 entries, 0 to 9999\n",
            "Data columns (total 14 columns):\n",
            " #   Column           Non-Null Count  Dtype  \n",
            "---  ------           --------------  -----  \n",
            " 0   RowNumber        10000 non-null  int64  \n",
            " 1   CustomerId       10000 non-null  int64  \n",
            " 2   Surname          10000 non-null  object \n",
            " 3   CreditScore      10000 non-null  int64  \n",
            " 4   Geography        10000 non-null  object \n",
            " 5   Gender           10000 non-null  object \n",
            " 6   Age              10000 non-null  int64  \n",
            " 7   Tenure           10000 non-null  int64  \n",
            " 8   Balance          10000 non-null  float64\n",
            " 9   NumOfProducts    10000 non-null  int64  \n",
            " 10  HasCrCard        10000 non-null  int64  \n",
            " 11  IsActiveMember   10000 non-null  int64  \n",
            " 12  EstimatedSalary  10000 non-null  float64\n",
            " 13  Exited           10000 non-null  int64  \n",
            "dtypes: float64(2), int64(9), object(3)\n",
            "memory usage: 1.1+ MB\n"
          ],
          "name": "stdout"
        }
      ]
    },
    {
      "cell_type": "markdown",
      "metadata": {
        "id": "S77hCl0BMR52",
        "colab_type": "text"
      },
      "source": [
        "Observamos que temos 14 variáveis e 10000 observações no dataset, além disso, temos variáveis do tipo inteiro, reais e objeto.\n",
        "\n",
        "Os dados se enquadram em duas categorias:\n",
        "\n",
        "* Variáveis categóricas: sexo, país, cartão de crédito, clientes ativos e saída do cliente.\n",
        "*Variáveis numéricas: escore do cliente, idade, tenure, balance, número de produtos, salário estimado.\n",
        "\n",
        "##**B. Identificando a variável alvo**\n",
        "\n",
        "Nosso interesse é identificar o perfil de clientes que cancelaram o serviço com agência bancária e tentar prever clientes em risco de Churn. Assim a variável 'Exited' é a variável adequada para alcançar os objetivos propostos.\n",
        "\n",
        "##**C. Análise exploratória dos dados**"
      ]
    },
    {
      "cell_type": "markdown",
      "metadata": {
        "id": "mnrLzkmUEPLf",
        "colab_type": "text"
      },
      "source": [
        "\n",
        "O comando 'describe()' fornece algumas medidas descritivas das variáveis, como média, mediana (quartil 50%), máxima, mínimo, desvio padrão, quartis e a contagem"
      ]
    },
    {
      "cell_type": "code",
      "metadata": {
        "id": "x9aDM7rEWc9I",
        "colab_type": "code",
        "colab": {
          "base_uri": "https://localhost:8080/",
          "height": 317
        },
        "outputId": "9ef3c374-fb28-43a3-cee7-1aa57922f473"
      },
      "source": [
        "df.describe()"
      ],
      "execution_count": null,
      "outputs": [
        {
          "output_type": "execute_result",
          "data": {
            "text/html": [
              "<div>\n",
              "<style scoped>\n",
              "    .dataframe tbody tr th:only-of-type {\n",
              "        vertical-align: middle;\n",
              "    }\n",
              "\n",
              "    .dataframe tbody tr th {\n",
              "        vertical-align: top;\n",
              "    }\n",
              "\n",
              "    .dataframe thead th {\n",
              "        text-align: right;\n",
              "    }\n",
              "</style>\n",
              "<table border=\"1\" class=\"dataframe\">\n",
              "  <thead>\n",
              "    <tr style=\"text-align: right;\">\n",
              "      <th></th>\n",
              "      <th>RowNumber</th>\n",
              "      <th>CustomerId</th>\n",
              "      <th>CreditScore</th>\n",
              "      <th>Age</th>\n",
              "      <th>Tenure</th>\n",
              "      <th>Balance</th>\n",
              "      <th>NumOfProducts</th>\n",
              "      <th>HasCrCard</th>\n",
              "      <th>IsActiveMember</th>\n",
              "      <th>EstimatedSalary</th>\n",
              "      <th>Exited</th>\n",
              "    </tr>\n",
              "  </thead>\n",
              "  <tbody>\n",
              "    <tr>\n",
              "      <th>count</th>\n",
              "      <td>10000.00000</td>\n",
              "      <td>1.000000e+04</td>\n",
              "      <td>10000.000000</td>\n",
              "      <td>10000.000000</td>\n",
              "      <td>10000.000000</td>\n",
              "      <td>10000.000000</td>\n",
              "      <td>10000.000000</td>\n",
              "      <td>10000.00000</td>\n",
              "      <td>10000.000000</td>\n",
              "      <td>10000.000000</td>\n",
              "      <td>10000.000000</td>\n",
              "    </tr>\n",
              "    <tr>\n",
              "      <th>mean</th>\n",
              "      <td>5000.50000</td>\n",
              "      <td>1.569094e+07</td>\n",
              "      <td>650.528800</td>\n",
              "      <td>38.921800</td>\n",
              "      <td>5.012800</td>\n",
              "      <td>76485.889288</td>\n",
              "      <td>1.530200</td>\n",
              "      <td>0.70550</td>\n",
              "      <td>0.515100</td>\n",
              "      <td>100090.239881</td>\n",
              "      <td>0.203700</td>\n",
              "    </tr>\n",
              "    <tr>\n",
              "      <th>std</th>\n",
              "      <td>2886.89568</td>\n",
              "      <td>7.193619e+04</td>\n",
              "      <td>96.653299</td>\n",
              "      <td>10.487806</td>\n",
              "      <td>2.892174</td>\n",
              "      <td>62397.405202</td>\n",
              "      <td>0.581654</td>\n",
              "      <td>0.45584</td>\n",
              "      <td>0.499797</td>\n",
              "      <td>57510.492818</td>\n",
              "      <td>0.402769</td>\n",
              "    </tr>\n",
              "    <tr>\n",
              "      <th>min</th>\n",
              "      <td>1.00000</td>\n",
              "      <td>1.556570e+07</td>\n",
              "      <td>350.000000</td>\n",
              "      <td>18.000000</td>\n",
              "      <td>0.000000</td>\n",
              "      <td>0.000000</td>\n",
              "      <td>1.000000</td>\n",
              "      <td>0.00000</td>\n",
              "      <td>0.000000</td>\n",
              "      <td>11.580000</td>\n",
              "      <td>0.000000</td>\n",
              "    </tr>\n",
              "    <tr>\n",
              "      <th>25%</th>\n",
              "      <td>2500.75000</td>\n",
              "      <td>1.562853e+07</td>\n",
              "      <td>584.000000</td>\n",
              "      <td>32.000000</td>\n",
              "      <td>3.000000</td>\n",
              "      <td>0.000000</td>\n",
              "      <td>1.000000</td>\n",
              "      <td>0.00000</td>\n",
              "      <td>0.000000</td>\n",
              "      <td>51002.110000</td>\n",
              "      <td>0.000000</td>\n",
              "    </tr>\n",
              "    <tr>\n",
              "      <th>50%</th>\n",
              "      <td>5000.50000</td>\n",
              "      <td>1.569074e+07</td>\n",
              "      <td>652.000000</td>\n",
              "      <td>37.000000</td>\n",
              "      <td>5.000000</td>\n",
              "      <td>97198.540000</td>\n",
              "      <td>1.000000</td>\n",
              "      <td>1.00000</td>\n",
              "      <td>1.000000</td>\n",
              "      <td>100193.915000</td>\n",
              "      <td>0.000000</td>\n",
              "    </tr>\n",
              "    <tr>\n",
              "      <th>75%</th>\n",
              "      <td>7500.25000</td>\n",
              "      <td>1.575323e+07</td>\n",
              "      <td>718.000000</td>\n",
              "      <td>44.000000</td>\n",
              "      <td>7.000000</td>\n",
              "      <td>127644.240000</td>\n",
              "      <td>2.000000</td>\n",
              "      <td>1.00000</td>\n",
              "      <td>1.000000</td>\n",
              "      <td>149388.247500</td>\n",
              "      <td>0.000000</td>\n",
              "    </tr>\n",
              "    <tr>\n",
              "      <th>max</th>\n",
              "      <td>10000.00000</td>\n",
              "      <td>1.581569e+07</td>\n",
              "      <td>850.000000</td>\n",
              "      <td>92.000000</td>\n",
              "      <td>10.000000</td>\n",
              "      <td>250898.090000</td>\n",
              "      <td>4.000000</td>\n",
              "      <td>1.00000</td>\n",
              "      <td>1.000000</td>\n",
              "      <td>199992.480000</td>\n",
              "      <td>1.000000</td>\n",
              "    </tr>\n",
              "  </tbody>\n",
              "</table>\n",
              "</div>"
            ],
            "text/plain": [
              "         RowNumber    CustomerId  ...  EstimatedSalary        Exited\n",
              "count  10000.00000  1.000000e+04  ...     10000.000000  10000.000000\n",
              "mean    5000.50000  1.569094e+07  ...    100090.239881      0.203700\n",
              "std     2886.89568  7.193619e+04  ...     57510.492818      0.402769\n",
              "min        1.00000  1.556570e+07  ...        11.580000      0.000000\n",
              "25%     2500.75000  1.562853e+07  ...     51002.110000      0.000000\n",
              "50%     5000.50000  1.569074e+07  ...    100193.915000      0.000000\n",
              "75%     7500.25000  1.575323e+07  ...    149388.247500      0.000000\n",
              "max    10000.00000  1.581569e+07  ...    199992.480000      1.000000\n",
              "\n",
              "[8 rows x 11 columns]"
            ]
          },
          "metadata": {
            "tags": []
          },
          "execution_count": 23
        }
      ]
    },
    {
      "cell_type": "markdown",
      "metadata": {
        "id": "ohXq1crIHJDM",
        "colab_type": "text"
      },
      "source": [
        "Os clientes, dessa agência bancária, têm em média 39 anos, sendo a idade mínima de 18 anos e máxima de 92 anos. A pontuação de crédito fica em torno de 650 pontos e o índice médio de estabilidade de emprego é 5. \n",
        "\n",
        "Os clientes têm em média \\$76.000 mil dólares na conta e possuem em média 1,5 produtos do banco. O salário médio anual estimado é de \\$100.000 mil dólares, 70% dos clientes possuem cartão de crédito e apenas 51% são ativos no banco, ou seja, fazem movimentação bancária constantemente. \n",
        "\n",
        "Analisando a variável de Churn ('Exited'), observa-se que 20% dos clientes romperam seu contrato com a agência bancária. \n",
        "\n",
        "\n"
      ]
    },
    {
      "cell_type": "markdown",
      "metadata": {
        "id": "h7EoMjuBdvl8",
        "colab_type": "text"
      },
      "source": [
        "###**Distribuição das variáveis**\n",
        "\n",
        "Plotar a distribuição de cada variável, da uma visão geral da mesma e possíveis outilers (valores discrepantes).\n"
      ]
    },
    {
      "cell_type": "code",
      "metadata": {
        "id": "N7ZbAMnVaaz9",
        "colab_type": "code",
        "colab": {
          "base_uri": "https://localhost:8080/",
          "height": 607
        },
        "outputId": "d78c53e6-8077-4ee3-8e06-4ae92c235edd"
      },
      "source": [
        "df.hist(figsize=(12,10));\n"
      ],
      "execution_count": null,
      "outputs": [
        {
          "output_type": "display_data",
          "data": {
            "image/png": "[encoded data removed]",
            "text/plain": [
              "<Figure size 864x720 with 12 Axes>"
            ]
          },
          "metadata": {
            "tags": [],
            "needs_background": "light"
          }
        }
      ]
    },
    {
      "cell_type": "markdown",
      "metadata": {
        "id": "8ip9Ar37m-VY",
        "colab_type": "text"
      },
      "source": [
        "O histograma da variável Idade mostra uma distribuição assimétrica a esquerda, ou seja, a maioria dos clientes têm entre 30 a 45 anos e poucos clientes têm idade superior a 60 anos. Já, o histograma da variável Balance (saldo bancário), mostra uma inflação de clientes que têm pouco dinheiro na conta bancária, isso pode ser um indicativo que esses clientes possuem outra conta bancária. \n",
        "\n",
        "O histograma da variável Score do Cliente mostra uma leve assimetria a direita, indicando que os clientes têm um escore elevado. E o histograma da variável Salário Estimado mostra que os valores estão uniformemente distribuídos. Ou seja, temos frequência parecidas entre os salários do clientes e existem clientes com salários baixo, médio e alto. \n",
        "\n",
        "A distribuição da variável Tenure (índice de estabilidade de emprego), mostra uma alta frequência no índice 10, ou seja, muitos clientes têm uma estabilidade alta. E uma baixa frequência no índice 0, de baixa estabilidade.\n",
        "\n",
        "A distribuição da variável Número de Produtos indica que a maioria dos clientes têm 1 ou 2 produtos e poucos clientes têm 3 ou mais produtos. Analisando o gráfico da variável Cartão de Crédito, observa-se que a maioria dos clientes possuem cartão de crédito. \n",
        "\n",
        "O gráfico de frequência da variável Membro Ativo, mostra que temos um equilíbrio entre os clientes que movimentam a conta e os clientes que não possuem esse hábito de movimentar a conta.\n",
        "\n",
        "E para finalizar, a variável Exited apresenta que poucos clientes cancelaram sua conta bancária. \n",
        "\n",
        "Viu quanta informação conseguimos extrair da distribuição de frequência das variáveis.\n",
        "\n"
      ]
    },
    {
      "cell_type": "markdown",
      "metadata": {
        "id": "5w3L8KYVPJfG",
        "colab_type": "text"
      },
      "source": [
        "\n",
        "* **Variáveis Numéricas**\n",
        "\n",
        "Observamos distribuições de cada variável numérica em relação à variável resposta (alvo). Podemos observar que a evasão de clientes é maior em pessoas com mais idade e que pessoas com baixo escore têm uma evasão maior. Além disso, quanto maior o número de produtos bancários, maior a taxa de evasão.\n"
      ]
    },
    {
      "cell_type": "code",
      "metadata": {
        "id": "pewZekN0YiSZ",
        "colab_type": "code",
        "colab": {}
      },
      "source": [
        "df['Exited_cat']=df['Exited'].replace([0,1],['Não','Sim'])\n",
        "x_cont=['CreditScore','Balance','Age','EstimatedSalary','Tenure', 'NumOfProducts']\n"
      ],
      "execution_count": null,
      "outputs": []
    },
    {
      "cell_type": "code",
      "metadata": {
        "id": "g0htvoYLWPf2",
        "colab_type": "code",
        "colab": {
          "base_uri": "https://localhost:8080/",
          "height": 262
        },
        "outputId": "a703195d-01a5-4275-ff27-abc9ad6c98cf"
      },
      "source": [
        "import matplotlib.pyplot as plt#visualização de dados;\n",
        "fig, ax = plt.subplots(1, 6, figsize=(22, 6));\n",
        "df[df.Exited_cat == \"Não\"][x_cont].hist( bins=30, color=\"blue\", alpha=0.5, ax=ax);\n",
        "df[df.Exited_cat == \"Sim\"][x_cont].hist( bins=30, color=\"red\", alpha=0.5, ax=ax);"
      ],
      "execution_count": null,
      "outputs": [
        {
          "output_type": "display_data",
          "data": {
            "image/png": "[encoded data removed]",
            "text/plain": [
              "<Figure size 1584x432 with 6 Axes>"
            ]
          },
          "metadata": {
            "tags": [],
            "needs_background": "light"
          }
        }
      ]
    },
    {
      "cell_type": "markdown",
      "metadata": {
        "id": "B5tIjIVBWwf9",
        "colab_type": "text"
      },
      "source": [
        "## **D.Visualização de Dados - Qual o perfil de clientes que cancelaram o contrato (Churn)?**\n",
        "\n",
        "\n",
        "Nessa etapa faremos a análise visual dos dados e mostraremos como as técnicas gráficas são úteis para identificar as características dos clientes que cancelaram o serviço.\n",
        "\n",
        "Para construir os gráficos no Python, precisamos importar algumas *bibliotecas*."
      ]
    },
    {
      "cell_type": "code",
      "metadata": {
        "id": "E_mOlUFNXauy",
        "colab_type": "code",
        "colab": {
          "base_uri": "https://localhost:8080/",
          "height": 71
        },
        "outputId": "3b1c09ed-8ca9-407c-de82-89de22d904d7"
      },
      "source": [
        "import numpy as np #  pacote algebra linear;\n",
        "import seaborn as sns #visualização de dados;\n"
      ],
      "execution_count": null,
      "outputs": [
        {
          "output_type": "stream",
          "text": [
            "/usr/local/lib/python3.6/dist-packages/statsmodels/tools/_testing.py:19: FutureWarning: pandas.util.testing is deprecated. Use the functions in the public API at pandas.testing instead.\n",
            "  import pandas.util.testing as tm\n"
          ],
          "name": "stderr"
        }
      ]
    },
    {
      "cell_type": "markdown",
      "metadata": {
        "id": "TGtAQAn73Ji0",
        "colab_type": "text"
      },
      "source": [
        "Para facilitar a configuração das cores dos gráficos, irei definir uma paleta de cores. Você pode utilizar as cores default dos gráfico, mas eu prefiro definir algumas cores que são mais agradáveis, ao meu ver."
      ]
    },
    {
      "cell_type": "code",
      "metadata": {
        "id": "ydRniDkT3IgX",
        "colab_type": "code",
        "colab": {}
      },
      "source": [
        "myred='#CD5C5C'\n",
        "myblue='#6495ED'\n",
        "mygreen='#90EE90'\n",
        "cols= [myred, myblue,mygreen]"
      ],
      "execution_count": null,
      "outputs": []
    },
    {
      "cell_type": "code",
      "metadata": {
        "id": "36E8mLhvE_18",
        "colab_type": "code",
        "colab": {
          "base_uri": "https://localhost:8080/",
          "height": 34
        },
        "outputId": "0ed1532e-05e6-4ee3-8389-8287a535a5d6"
      },
      "source": [
        "# porcentagem de clientes que sairam do banco\n",
        "df['Exited'].sum()/df['Exited'].count()"
      ],
      "execution_count": null,
      "outputs": [
        {
          "output_type": "execute_result",
          "data": {
            "text/plain": [
              "0.2037"
            ]
          },
          "metadata": {
            "tags": []
          },
          "execution_count": 27
        }
      ]
    },
    {
      "cell_type": "code",
      "metadata": {
        "id": "N18ftPtMbARW",
        "colab_type": "code",
        "colab": {
          "base_uri": "https://localhost:8080/",
          "height": 280
        },
        "outputId": "5ad7c462-70ee-4302-ad8c-3816899d0d22"
      },
      "source": [
        "sns.countplot(data=df,x='Exited_cat',palette=cols);"
      ],
      "execution_count": null,
      "outputs": [
        {
          "output_type": "display_data",
          "data": {
            "image/png": "[encoded data removed]",
            "text/plain": [
              "<Figure size 432x288 with 1 Axes>"
            ]
          },
          "metadata": {
            "tags": [],
            "needs_background": "light"
          }
        }
      ]
    },
    {
      "cell_type": "markdown",
      "metadata": {
        "id": "4h-09Lm3NnZ4",
        "colab_type": "text"
      },
      "source": [
        "Observe que 20% dos clientes dessa agência bancária abandonaram o serviço. Vale ressaltar que existe um desbalanceamento em relação a variável de interesse, Exited. E ignorar essa desproporção, entre as classes, pode impactar os resultados de previsão do modelo, que será assunto para o próximo artigo.\n",
        "\n"
      ]
    },
    {
      "cell_type": "markdown",
      "metadata": {
        "id": "e20GPaRNNSGp",
        "colab_type": "text"
      },
      "source": [
        "###**Variáveis Categóricas**\n",
        "\n",
        " Primeiro vamos analisar as variáveis categóricas em relação a variável de saída (Exited). Utilizaremos gráficos de barras para esse fim.\n",
        "\n",
        "* **Variável Sexo**"
      ]
    },
    {
      "cell_type": "code",
      "metadata": {
        "id": "q35XDF1WXHLF",
        "colab_type": "code",
        "colab": {}
      },
      "source": [
        "#renomeando as categorias\n",
        "df['Gender']=df['Gender'].replace(['Female','Male'],['Feminino','Masculino'])"
      ],
      "execution_count": null,
      "outputs": []
    },
    {
      "cell_type": "code",
      "metadata": {
        "id": "sgOvW57lRWfU",
        "colab_type": "code",
        "colab": {
          "base_uri": "https://localhost:8080/",
          "height": 111
        },
        "outputId": "096f8636-77cd-4221-e9e2-1489884726bc"
      },
      "source": [
        "df_plot = df.groupby ('Gender'). Exited.mean (). reset_index () \n",
        "df_plot"
      ],
      "execution_count": null,
      "outputs": [
        {
          "output_type": "execute_result",
          "data": {
            "text/html": [
              "<div>\n",
              "<style scoped>\n",
              "    .dataframe tbody tr th:only-of-type {\n",
              "        vertical-align: middle;\n",
              "    }\n",
              "\n",
              "    .dataframe tbody tr th {\n",
              "        vertical-align: top;\n",
              "    }\n",
              "\n",
              "    .dataframe thead th {\n",
              "        text-align: right;\n",
              "    }\n",
              "</style>\n",
              "<table border=\"1\" class=\"dataframe\">\n",
              "  <thead>\n",
              "    <tr style=\"text-align: right;\">\n",
              "      <th></th>\n",
              "      <th>Gender</th>\n",
              "      <th>Exited</th>\n",
              "    </tr>\n",
              "  </thead>\n",
              "  <tbody>\n",
              "    <tr>\n",
              "      <th>0</th>\n",
              "      <td>Feminino</td>\n",
              "      <td>0.250715</td>\n",
              "    </tr>\n",
              "    <tr>\n",
              "      <th>1</th>\n",
              "      <td>Masculino</td>\n",
              "      <td>0.164559</td>\n",
              "    </tr>\n",
              "  </tbody>\n",
              "</table>\n",
              "</div>"
            ],
            "text/plain": [
              "      Gender    Exited\n",
              "0   Feminino  0.250715\n",
              "1  Masculino  0.164559"
            ]
          },
          "metadata": {
            "tags": []
          },
          "execution_count": 31
        }
      ]
    },
    {
      "cell_type": "code",
      "metadata": {
        "id": "NKNvoRWBScp6",
        "colab_type": "code",
        "colab": {
          "base_uri": "https://localhost:8080/",
          "height": 295
        },
        "outputId": "e7d5acd0-76c6-4a82-acc1-8ea3067fb4b0"
      },
      "source": [
        "#Sexo em relação a variável churn\n",
        "x =df_plot['Gender']\n",
        "y=df_plot['Exited']\n",
        "plt.bar(x,y,color=cols);\n",
        "plt.title('Taxa de Churn em relação ao Sexo');\n",
        "plt.xlabel('Sexo');\n",
        "plt.ylabel('Taxa de Churn');"
      ],
      "execution_count": null,
      "outputs": [
        {
          "output_type": "display_data",
          "data": {
            "image/png": "[encoded data removed]",
            "text/plain": [
              "<Figure size 432x288 with 1 Axes>"
            ]
          },
          "metadata": {
            "tags": [],
            "needs_background": "light"
          }
        }
      ]
    },
    {
      "cell_type": "markdown",
      "metadata": {
        "id": "ebV1MYqdL9Hb",
        "colab_type": "text"
      },
      "source": [
        "Observa-se que as mulheres têm um risco maior de Churn do que os homens. \n",
        "\n",
        "* **Variável País**"
      ]
    },
    {
      "cell_type": "code",
      "metadata": {
        "id": "1tUvmnhbWf7l",
        "colab_type": "code",
        "colab": {}
      },
      "source": [
        "df['Geography']=df['Geography'].replace(['France','Germany','Spain'],['França','Alemanha','Espanha'])\n"
      ],
      "execution_count": null,
      "outputs": []
    },
    {
      "cell_type": "code",
      "metadata": {
        "id": "QKVKTsKmFXZ8",
        "colab_type": "code",
        "colab": {
          "base_uri": "https://localhost:8080/",
          "height": 142
        },
        "outputId": "afd8c67c-495f-480c-90e8-f42eaf44f0ea"
      },
      "source": [
        "df_plot = df.groupby ('Geography'). Exited.mean (). reset_index () \n",
        "df_plot"
      ],
      "execution_count": null,
      "outputs": [
        {
          "output_type": "execute_result",
          "data": {
            "text/html": [
              "<div>\n",
              "<style scoped>\n",
              "    .dataframe tbody tr th:only-of-type {\n",
              "        vertical-align: middle;\n",
              "    }\n",
              "\n",
              "    .dataframe tbody tr th {\n",
              "        vertical-align: top;\n",
              "    }\n",
              "\n",
              "    .dataframe thead th {\n",
              "        text-align: right;\n",
              "    }\n",
              "</style>\n",
              "<table border=\"1\" class=\"dataframe\">\n",
              "  <thead>\n",
              "    <tr style=\"text-align: right;\">\n",
              "      <th></th>\n",
              "      <th>Geography</th>\n",
              "      <th>Exited</th>\n",
              "    </tr>\n",
              "  </thead>\n",
              "  <tbody>\n",
              "    <tr>\n",
              "      <th>0</th>\n",
              "      <td>Alemanha</td>\n",
              "      <td>0.324432</td>\n",
              "    </tr>\n",
              "    <tr>\n",
              "      <th>1</th>\n",
              "      <td>Espanha</td>\n",
              "      <td>0.166734</td>\n",
              "    </tr>\n",
              "    <tr>\n",
              "      <th>2</th>\n",
              "      <td>França</td>\n",
              "      <td>0.161548</td>\n",
              "    </tr>\n",
              "  </tbody>\n",
              "</table>\n",
              "</div>"
            ],
            "text/plain": [
              "  Geography    Exited\n",
              "0  Alemanha  0.324432\n",
              "1   Espanha  0.166734\n",
              "2    França  0.161548"
            ]
          },
          "metadata": {
            "tags": []
          },
          "execution_count": 34
        }
      ]
    },
    {
      "cell_type": "code",
      "metadata": {
        "id": "riYOyxdUFXT8",
        "colab_type": "code",
        "colab": {
          "base_uri": "https://localhost:8080/",
          "height": 295
        },
        "outputId": "2c2ce9af-776a-497a-98e8-806d135374c1"
      },
      "source": [
        "#País em relação a variável churn\n",
        "x =df_plot['Geography']\n",
        "y=df_plot['Exited']\n",
        "plt.bar(x,y,color=cols);\n",
        "plt.title('Taxa de Churn em relação ao País');\n",
        "plt.xlabel('País');\n",
        "plt.ylabel('Taxa de Churn');"
      ],
      "execution_count": null,
      "outputs": [
        {
          "output_type": "display_data",
          "data": {
            "image/png": "[encoded data removed]",
            "text/plain": [
              "<Figure size 432x288 with 1 Axes>"
            ]
          },
          "metadata": {
            "tags": [],
            "needs_background": "light"
          }
        }
      ]
    },
    {
      "cell_type": "markdown",
      "metadata": {
        "id": "CTyfyfB4ONZ1",
        "colab_type": "text"
      },
      "source": [
        "Em relação a variável país, observa-se que a porcentagem de Churn na Alemanha é bastante elevada, onde 32% dos clientes encerraram a conta no banco. Espanha e França têm uma taxa de Churn parecidas em torno de 16%.\n",
        "\n",
        "* **Variável Cartão de Crédito**"
      ]
    },
    {
      "cell_type": "code",
      "metadata": {
        "id": "DwtEZCgMVjje",
        "colab_type": "code",
        "colab": {}
      },
      "source": [
        "df['HasCrCard']=df['HasCrCard'].replace([0,1],['Não','Sim'])\n"
      ],
      "execution_count": null,
      "outputs": []
    },
    {
      "cell_type": "code",
      "metadata": {
        "id": "4QXjqEwVQwNv",
        "colab_type": "code",
        "colab": {
          "base_uri": "https://localhost:8080/",
          "height": 111
        },
        "outputId": "8e09dc8f-c549-4a30-a654-e15bca8cf872"
      },
      "source": [
        "df_plot = df.groupby ('HasCrCard'). Exited.mean (). reset_index () \n",
        "df_plot"
      ],
      "execution_count": null,
      "outputs": [
        {
          "output_type": "execute_result",
          "data": {
            "text/html": [
              "<div>\n",
              "<style scoped>\n",
              "    .dataframe tbody tr th:only-of-type {\n",
              "        vertical-align: middle;\n",
              "    }\n",
              "\n",
              "    .dataframe tbody tr th {\n",
              "        vertical-align: top;\n",
              "    }\n",
              "\n",
              "    .dataframe thead th {\n",
              "        text-align: right;\n",
              "    }\n",
              "</style>\n",
              "<table border=\"1\" class=\"dataframe\">\n",
              "  <thead>\n",
              "    <tr style=\"text-align: right;\">\n",
              "      <th></th>\n",
              "      <th>HasCrCard</th>\n",
              "      <th>Exited</th>\n",
              "    </tr>\n",
              "  </thead>\n",
              "  <tbody>\n",
              "    <tr>\n",
              "      <th>0</th>\n",
              "      <td>Não</td>\n",
              "      <td>0.208149</td>\n",
              "    </tr>\n",
              "    <tr>\n",
              "      <th>1</th>\n",
              "      <td>Sim</td>\n",
              "      <td>0.201843</td>\n",
              "    </tr>\n",
              "  </tbody>\n",
              "</table>\n",
              "</div>"
            ],
            "text/plain": [
              "  HasCrCard    Exited\n",
              "0       Não  0.208149\n",
              "1       Sim  0.201843"
            ]
          },
          "metadata": {
            "tags": []
          },
          "execution_count": 37
        }
      ]
    },
    {
      "cell_type": "code",
      "metadata": {
        "id": "yeP1L7L9RBJW",
        "colab_type": "code",
        "colab": {
          "base_uri": "https://localhost:8080/",
          "height": 295
        },
        "outputId": "bad63016-4b8b-46e8-b6ca-55750b89d45e"
      },
      "source": [
        "#Carão de crédito em relação a variável churn\n",
        "x =df_plot['HasCrCard']\n",
        "y=df_plot['Exited']\n",
        "plt.bar(x,y,color=cols);\n",
        "plt.title('Taxa de Churn em relação a variável Cartão de Crédito');\n",
        "plt.xlabel('Cartão de crédito');\n",
        "plt.ylabel('Taxa de Churn');"
      ],
      "execution_count": null,
      "outputs": [
        {
          "output_type": "display_data",
          "data": {
            "image/png": "[encoded data removed]",
            "text/plain": [
              "<Figure size 432x288 with 1 Axes>"
            ]
          },
          "metadata": {
            "tags": [],
            "needs_background": "light"
          }
        }
      ]
    },
    {
      "cell_type": "markdown",
      "metadata": {
        "id": "X4b8bYpuROIy",
        "colab_type": "text"
      },
      "source": [
        "Observe que o cliente ter ou não cartão de crédito parece não influenciar no Churn.\n",
        "\n",
        "* **Variável Membro Ativo**\n"
      ]
    },
    {
      "cell_type": "code",
      "metadata": {
        "id": "SxgKPufjYNR8",
        "colab_type": "code",
        "colab": {}
      },
      "source": [
        "df['IsActiveMember']=df['IsActiveMember'].replace([0,1],['Não','Sim'])\n"
      ],
      "execution_count": null,
      "outputs": []
    },
    {
      "cell_type": "code",
      "metadata": {
        "id": "hbOwAtjnRn05",
        "colab_type": "code",
        "colab": {
          "base_uri": "https://localhost:8080/",
          "height": 111
        },
        "outputId": "c972ae49-f3e3-4621-ba3c-6e6cf4cd561f"
      },
      "source": [
        "df_plot = df.groupby ('IsActiveMember'). Exited.mean (). reset_index () \n",
        "df_plot"
      ],
      "execution_count": null,
      "outputs": [
        {
          "output_type": "execute_result",
          "data": {
            "text/html": [
              "<div>\n",
              "<style scoped>\n",
              "    .dataframe tbody tr th:only-of-type {\n",
              "        vertical-align: middle;\n",
              "    }\n",
              "\n",
              "    .dataframe tbody tr th {\n",
              "        vertical-align: top;\n",
              "    }\n",
              "\n",
              "    .dataframe thead th {\n",
              "        text-align: right;\n",
              "    }\n",
              "</style>\n",
              "<table border=\"1\" class=\"dataframe\">\n",
              "  <thead>\n",
              "    <tr style=\"text-align: right;\">\n",
              "      <th></th>\n",
              "      <th>IsActiveMember</th>\n",
              "      <th>Exited</th>\n",
              "    </tr>\n",
              "  </thead>\n",
              "  <tbody>\n",
              "    <tr>\n",
              "      <th>0</th>\n",
              "      <td>Não</td>\n",
              "      <td>0.268509</td>\n",
              "    </tr>\n",
              "    <tr>\n",
              "      <th>1</th>\n",
              "      <td>Sim</td>\n",
              "      <td>0.142691</td>\n",
              "    </tr>\n",
              "  </tbody>\n",
              "</table>\n",
              "</div>"
            ],
            "text/plain": [
              "  IsActiveMember    Exited\n",
              "0            Não  0.268509\n",
              "1            Sim  0.142691"
            ]
          },
          "metadata": {
            "tags": []
          },
          "execution_count": 40
        }
      ]
    },
    {
      "cell_type": "code",
      "metadata": {
        "id": "XTfSy60bRfj0",
        "colab_type": "code",
        "colab": {
          "base_uri": "https://localhost:8080/",
          "height": 295
        },
        "outputId": "d62a4255-d58b-414f-a36f-dd1a030631a8"
      },
      "source": [
        "#Membro ativo em relação a variável churn\n",
        "x =df_plot['IsActiveMember']\n",
        "y=df_plot['Exited']\n",
        "plt.bar(x,y,color=cols);\n",
        "plt.title('Taxa de Churn em relação a variável Membro Ativo');\n",
        "plt.xlabel('Membro ativo');\n",
        "plt.ylabel('Taxa de Churn');"
      ],
      "execution_count": null,
      "outputs": [
        {
          "output_type": "display_data",
          "data": {
            "image/png": "[encoded data removed]",
            "text/plain": [
              "<Figure size 432x288 with 1 Axes>"
            ]
          },
          "metadata": {
            "tags": [],
            "needs_background": "light"
          }
        }
      ]
    },
    {
      "cell_type": "markdown",
      "metadata": {
        "id": "jxLt0Zq1Rwut",
        "colab_type": "text"
      },
      "source": [
        "O Churn entre os clientes que não são ativos é maior do que os clientes ativos, tendo uma diferença de aproximadamente 12%.\n",
        "\n",
        "###**Variáveis numéricas**\n",
        "\n",
        "Para as variáveis numéricas utilizaremos variáveis de barras para variáveis discretas e gráfico de dispersão e box-plot para as variáveis contínuas. Também analisaremos a matriz de correlação para ver a correlação entre as variáveis.\n",
        "\n",
        "Selecionamos, primeiramente, apenas as variáveis numéricas.\n"
      ]
    },
    {
      "cell_type": "code",
      "metadata": {
        "id": "qOPpW0LxJTqA",
        "colab_type": "code",
        "colab": {
          "base_uri": "https://localhost:8080/",
          "height": 419
        },
        "outputId": "4b0d58e2-7ace-4ec6-8004-cfe529cc6fc6"
      },
      "source": [
        "df_cont=df[['Age','Balance','Tenure','NumOfProducts','EstimatedSalary']]\n",
        "df_cont\n"
      ],
      "execution_count": null,
      "outputs": [
        {
          "output_type": "execute_result",
          "data": {
            "text/html": [
              "<div>\n",
              "<style scoped>\n",
              "    .dataframe tbody tr th:only-of-type {\n",
              "        vertical-align: middle;\n",
              "    }\n",
              "\n",
              "    .dataframe tbody tr th {\n",
              "        vertical-align: top;\n",
              "    }\n",
              "\n",
              "    .dataframe thead th {\n",
              "        text-align: right;\n",
              "    }\n",
              "</style>\n",
              "<table border=\"1\" class=\"dataframe\">\n",
              "  <thead>\n",
              "    <tr style=\"text-align: right;\">\n",
              "      <th></th>\n",
              "      <th>Age</th>\n",
              "      <th>Balance</th>\n",
              "      <th>Tenure</th>\n",
              "      <th>NumOfProducts</th>\n",
              "      <th>EstimatedSalary</th>\n",
              "    </tr>\n",
              "  </thead>\n",
              "  <tbody>\n",
              "    <tr>\n",
              "      <th>0</th>\n",
              "      <td>42</td>\n",
              "      <td>0.00</td>\n",
              "      <td>2</td>\n",
              "      <td>1</td>\n",
              "      <td>101348.88</td>\n",
              "    </tr>\n",
              "    <tr>\n",
              "      <th>1</th>\n",
              "      <td>41</td>\n",
              "      <td>83807.86</td>\n",
              "      <td>1</td>\n",
              "      <td>1</td>\n",
              "      <td>112542.58</td>\n",
              "    </tr>\n",
              "    <tr>\n",
              "      <th>2</th>\n",
              "      <td>42</td>\n",
              "      <td>159660.80</td>\n",
              "      <td>8</td>\n",
              "      <td>3</td>\n",
              "      <td>113931.57</td>\n",
              "    </tr>\n",
              "    <tr>\n",
              "      <th>3</th>\n",
              "      <td>39</td>\n",
              "      <td>0.00</td>\n",
              "      <td>1</td>\n",
              "      <td>2</td>\n",
              "      <td>93826.63</td>\n",
              "    </tr>\n",
              "    <tr>\n",
              "      <th>4</th>\n",
              "      <td>43</td>\n",
              "      <td>125510.82</td>\n",
              "      <td>2</td>\n",
              "      <td>1</td>\n",
              "      <td>79084.10</td>\n",
              "    </tr>\n",
              "    <tr>\n",
              "      <th>...</th>\n",
              "      <td>...</td>\n",
              "      <td>...</td>\n",
              "      <td>...</td>\n",
              "      <td>...</td>\n",
              "      <td>...</td>\n",
              "    </tr>\n",
              "    <tr>\n",
              "      <th>9995</th>\n",
              "      <td>39</td>\n",
              "      <td>0.00</td>\n",
              "      <td>5</td>\n",
              "      <td>2</td>\n",
              "      <td>96270.64</td>\n",
              "    </tr>\n",
              "    <tr>\n",
              "      <th>9996</th>\n",
              "      <td>35</td>\n",
              "      <td>57369.61</td>\n",
              "      <td>10</td>\n",
              "      <td>1</td>\n",
              "      <td>101699.77</td>\n",
              "    </tr>\n",
              "    <tr>\n",
              "      <th>9997</th>\n",
              "      <td>36</td>\n",
              "      <td>0.00</td>\n",
              "      <td>7</td>\n",
              "      <td>1</td>\n",
              "      <td>42085.58</td>\n",
              "    </tr>\n",
              "    <tr>\n",
              "      <th>9998</th>\n",
              "      <td>42</td>\n",
              "      <td>75075.31</td>\n",
              "      <td>3</td>\n",
              "      <td>2</td>\n",
              "      <td>92888.52</td>\n",
              "    </tr>\n",
              "    <tr>\n",
              "      <th>9999</th>\n",
              "      <td>28</td>\n",
              "      <td>130142.79</td>\n",
              "      <td>4</td>\n",
              "      <td>1</td>\n",
              "      <td>38190.78</td>\n",
              "    </tr>\n",
              "  </tbody>\n",
              "</table>\n",
              "<p>10000 rows × 5 columns</p>\n",
              "</div>"
            ],
            "text/plain": [
              "      Age    Balance  Tenure  NumOfProducts  EstimatedSalary\n",
              "0      42       0.00       2              1        101348.88\n",
              "1      41   83807.86       1              1        112542.58\n",
              "2      42  159660.80       8              3        113931.57\n",
              "3      39       0.00       1              2         93826.63\n",
              "4      43  125510.82       2              1         79084.10\n",
              "...   ...        ...     ...            ...              ...\n",
              "9995   39       0.00       5              2         96270.64\n",
              "9996   35   57369.61      10              1        101699.77\n",
              "9997   36       0.00       7              1         42085.58\n",
              "9998   42   75075.31       3              2         92888.52\n",
              "9999   28  130142.79       4              1         38190.78\n",
              "\n",
              "[10000 rows x 5 columns]"
            ]
          },
          "metadata": {
            "tags": []
          },
          "execution_count": 42
        }
      ]
    },
    {
      "cell_type": "markdown",
      "metadata": {
        "id": "d-NqDd32KQXc",
        "colab_type": "text"
      },
      "source": [
        "* **Matriz de Correlação**\n",
        "\n",
        "Utilizaremos a função heatmap() para entender o relacionamento entre as variáveis numéricas."
      ]
    },
    {
      "cell_type": "code",
      "metadata": {
        "id": "UvvQBh4uihuD",
        "colab_type": "code",
        "colab": {
          "base_uri": "https://localhost:8080/",
          "height": 341
        },
        "outputId": "7f02f47d-d0ca-43ef-bc66-8c0631c8bb81"
      },
      "source": [
        "sns.heatmap(df_cont.corr(),annot = True,\n",
        "            cmap='Blues');"
      ],
      "execution_count": null,
      "outputs": [
        {
          "output_type": "display_data",
          "data": {
            "image/png": "[encoded data removed]",
            "text/plain": [
              "<Figure size 432x288 with 2 Axes>"
            ]
          },
          "metadata": {
            "tags": [],
            "needs_background": "light"
          }
        }
      ]
    },
    {
      "cell_type": "markdown",
      "metadata": {
        "id": "R49BFoxPmY10",
        "colab_type": "text"
      },
      "source": [
        " Analisando a correlação entre as variáveis, observa-se que temos baixas correlações. A maior correlação é entre as variáveis Número de Produtos e Saldo Bancário ('Balance') e temos uma correlação negativa de - 0,3 entre elas. Ou seja, quando menor o Número de Produtos maior o Saldo Bancário.\n",
        "\n",
        "Agora vamos construir os gráficos para as variáves quantitativas discretas, como, 'NumOfProducts' e 'Tenure'. "
      ]
    },
    {
      "cell_type": "markdown",
      "metadata": {
        "id": "uhVvuPVYQf0t",
        "colab_type": "text"
      },
      "source": [
        "* **Variável Número de Produtos**"
      ]
    },
    {
      "cell_type": "code",
      "metadata": {
        "id": "UbE2oVl2VFOi",
        "colab_type": "code",
        "colab": {
          "base_uri": "https://localhost:8080/",
          "height": 173
        },
        "outputId": "52af4d00-b009-4d71-95d0-ff8ff88cb35c"
      },
      "source": [
        "df_plot = df.groupby ('NumOfProducts').Exited.mean(). reset_index () \n",
        "df_plot\n"
      ],
      "execution_count": null,
      "outputs": [
        {
          "output_type": "execute_result",
          "data": {
            "text/html": [
              "<div>\n",
              "<style scoped>\n",
              "    .dataframe tbody tr th:only-of-type {\n",
              "        vertical-align: middle;\n",
              "    }\n",
              "\n",
              "    .dataframe tbody tr th {\n",
              "        vertical-align: top;\n",
              "    }\n",
              "\n",
              "    .dataframe thead th {\n",
              "        text-align: right;\n",
              "    }\n",
              "</style>\n",
              "<table border=\"1\" class=\"dataframe\">\n",
              "  <thead>\n",
              "    <tr style=\"text-align: right;\">\n",
              "      <th></th>\n",
              "      <th>NumOfProducts</th>\n",
              "      <th>Exited</th>\n",
              "    </tr>\n",
              "  </thead>\n",
              "  <tbody>\n",
              "    <tr>\n",
              "      <th>0</th>\n",
              "      <td>1</td>\n",
              "      <td>0.277144</td>\n",
              "    </tr>\n",
              "    <tr>\n",
              "      <th>1</th>\n",
              "      <td>2</td>\n",
              "      <td>0.075817</td>\n",
              "    </tr>\n",
              "    <tr>\n",
              "      <th>2</th>\n",
              "      <td>3</td>\n",
              "      <td>0.827068</td>\n",
              "    </tr>\n",
              "    <tr>\n",
              "      <th>3</th>\n",
              "      <td>4</td>\n",
              "      <td>1.000000</td>\n",
              "    </tr>\n",
              "  </tbody>\n",
              "</table>\n",
              "</div>"
            ],
            "text/plain": [
              "   NumOfProducts    Exited\n",
              "0              1  0.277144\n",
              "1              2  0.075817\n",
              "2              3  0.827068\n",
              "3              4  1.000000"
            ]
          },
          "metadata": {
            "tags": []
          },
          "execution_count": 44
        }
      ]
    },
    {
      "cell_type": "code",
      "metadata": {
        "id": "GVjGYJSh3z8t",
        "colab_type": "code",
        "colab": {
          "base_uri": "https://localhost:8080/",
          "height": 296
        },
        "outputId": "7e9a6c3b-4493-4307-8328-3014e3225dea"
      },
      "source": [
        "#Número de produtos em relação a variável churn\n",
        "x =df_plot['NumOfProducts']\n",
        "y=df_plot['Exited']\n",
        "plt.bar(x,y);\n",
        "plt.title('Taxa de Churn em relação ao Número de Produtos');\n",
        "plt.xlabel('Números de produtos');\n",
        "plt.ylabel('Taxa de Churn');\n",
        "plt.xticks(x, (1,2,3,4));"
      ],
      "execution_count": null,
      "outputs": [
        {
          "output_type": "display_data",
          "data": {
            "image/png": "[encoded data removed]",
            "text/plain": [
              "<Figure size 432x288 with 1 Axes>"
            ]
          },
          "metadata": {
            "tags": [],
            "needs_background": "light"
          }
        }
      ]
    },
    {
      "cell_type": "markdown",
      "metadata": {
        "id": "sWmOqxHxjDfI",
        "colab_type": "text"
      },
      "source": [
        "Quanto maior o número de produtos maior a taxa de Churn. \n",
        "\n",
        "**Observação:**Para alterar o eixo do gráfico utilize a função plt.xticks"
      ]
    },
    {
      "cell_type": "markdown",
      "metadata": {
        "id": "Q4Q-yPKOTYtD",
        "colab_type": "text"
      },
      "source": [
        "* **Variável Tenure**\n"
      ]
    },
    {
      "cell_type": "code",
      "metadata": {
        "id": "tnBjCabJTeir",
        "colab_type": "code",
        "colab": {
          "base_uri": "https://localhost:8080/",
          "height": 299
        },
        "outputId": "2886013f-f64f-41ca-db63-ae30bed94a1c"
      },
      "source": [
        "df_plot = df.groupby ('Tenure'). Exited.mean (). reset_index () \n",
        "#Número de produtos em relação a variável churn\n",
        "x =df_plot['Tenure']\n",
        "y=df_plot['Exited']\n",
        "plt.bar(x,y);\n",
        "plt.title('Taxa de Churn em relação ao Índice de Estabilidade no emprego');\n",
        "plt.xlabel('Índice de Estabilidade no emprego');\n",
        "plt.ylabel('Taxa de Churn');\n",
        "plt.xticks(x, (0,1,2,3,4,5,6,7,8,9,10));"
      ],
      "execution_count": null,
      "outputs": [
        {
          "output_type": "display_data",
          "data": {
            "image/png": "[encoded data removed]",
            "text/plain": [
              "<Figure size 432x288 with 1 Axes>"
            ]
          },
          "metadata": {
            "tags": [],
            "needs_background": "light"
          }
        }
      ]
    },
    {
      "cell_type": "markdown",
      "metadata": {
        "id": "3zhSQ2CcjU_1",
        "colab_type": "text"
      },
      "source": [
        " O nível de estabilidade do emprego parece não influenciar a taxa de Churn. Porém, observa-se uma taxa de Churn um pouco mais elevada em clientes com índice de estabilidade 0 e 1.\n",
        "\n",
        "* **Variável Saldo Bancário**"
      ]
    },
    {
      "cell_type": "code",
      "metadata": {
        "id": "fyphDzV7srVh",
        "colab_type": "code",
        "colab": {
          "base_uri": "https://localhost:8080/",
          "height": 363
        },
        "outputId": "a7da7d61-9732-46e4-aa85-72a83af5a6bf"
      },
      "source": [
        "#box-plot salto bancario em relação ao Churn\n",
        "cols= [myred, myblue,mygreen]\n",
        "sns.boxplot(x=\"Exited_cat\", y=\"Balance\", data=df,palette=cols);\n",
        "plt.title('Box-plot da variável Saldo bancário');\n",
        "plt.xlabel('Variável Churn');\n",
        "plt.ylabel('Saldo Bancário');\n",
        "df.groupby(['Exited_cat'])['Balance'].mean()"
      ],
      "execution_count": null,
      "outputs": [
        {
          "output_type": "execute_result",
          "data": {
            "text/plain": [
              "Exited_cat\n",
              "Não    72745.296779\n",
              "Sim    91108.539337\n",
              "Name: Balance, dtype: float64"
            ]
          },
          "metadata": {
            "tags": []
          },
          "execution_count": 49
        },
        {
          "output_type": "display_data",
          "data": {
            "image/png": "[encoded data removed]",
            "text/plain": [
              "<Figure size 432x288 with 1 Axes>"
            ]
          },
          "metadata": {
            "tags": [],
            "needs_background": "light"
          }
        }
      ]
    },
    {
      "cell_type": "markdown",
      "metadata": {
        "id": "em5X8-IOjgKd",
        "colab_type": "text"
      },
      "source": [
        " Clientes que cancelaram os serviços bancários possui um saldo bancários maior do que aqueles clientes que não cancelaram o serviço. \n",
        "\n",
        "* **Variável Salário Estimado**"
      ]
    },
    {
      "cell_type": "code",
      "metadata": {
        "id": "5uey6B-wtMz-",
        "colab_type": "code",
        "colab": {
          "base_uri": "https://localhost:8080/",
          "height": 279
        },
        "outputId": "aaf93453-7e01-41ef-f5cd-c43c71e7ac45"
      },
      "source": [
        "#box-plot salario pela variável churn\n",
        "\n",
        "sns.boxplot(x=\"Exited_cat\", y=\"EstimatedSalary\" , data=df,palette=cols);\n",
        "df.groupby(['Exited'])['EstimatedSalary'].mean()\n",
        "plt.xlabel('Churn');\n",
        "plt.ylabel('Salário');"
      ],
      "execution_count": null,
      "outputs": [
        {
          "output_type": "display_data",
          "data": {
            "image/png": "[encoded data removed]",
            "text/plain": [
              "<Figure size 432x288 with 1 Axes>"
            ]
          },
          "metadata": {
            "tags": [],
            "needs_background": "light"
          }
        }
      ]
    },
    {
      "cell_type": "markdown",
      "metadata": {
        "id": "3kCFHFa2lLCv",
        "colab_type": "text"
      },
      "source": [
        "O salário estimado parece não influenciar no cancelamento ou não do serviço bancário.\n",
        "\n",
        "* **Variável Idade**"
      ]
    },
    {
      "cell_type": "code",
      "metadata": {
        "id": "Bz5bjFMsbTAw",
        "colab_type": "code",
        "colab": {
          "base_uri": "https://localhost:8080/",
          "height": 312
        },
        "outputId": "59f21dea-2257-4bc6-b4aa-35a7807ff995"
      },
      "source": [
        "df_plot = df.groupby ('Age'). Exited.mean (). reset_index () \n",
        "#Número de produtos em relação a variável churn\n",
        "x = df_plot['Age']\n",
        "y = df_plot['Exited']\n",
        "plt.scatter(x,y)\n",
        "plt.title('Taxa de Churn em relação a Idade')\n",
        "plt.xlabel('Idade')\n",
        "plt.ylabel('Taxa de Churn')"
      ],
      "execution_count": null,
      "outputs": [
        {
          "output_type": "execute_result",
          "data": {
            "text/plain": [
              "Text(0, 0.5, 'Taxa de Churn')"
            ]
          },
          "metadata": {
            "tags": []
          },
          "execution_count": 52
        },
        {
          "output_type": "display_data",
          "data": {
            "image/png": "[encoded data removed]",
            "text/plain": [
              "<Figure size 432x288 with 1 Axes>"
            ]
          },
          "metadata": {
            "tags": [],
            "needs_background": "light"
          }
        }
      ]
    },
    {
      "cell_type": "code",
      "metadata": {
        "id": "Ya05em-EAlz0",
        "colab_type": "code",
        "colab": {
          "base_uri": "https://localhost:8080/",
          "height": 347
        },
        "outputId": "d64def91-c205-4ab6-8173-741af7b5d66f"
      },
      "source": [
        "#box-plot Idade pelo Churn\n",
        "sns.boxplot(x=\"Exited_cat\", y=\"Age\" , data=df,palette=cols);\n",
        "plt.xlabel('Churn');\n",
        "plt.ylabel('Idade');\n",
        "df.groupby(['Exited'])['Age'].mean()"
      ],
      "execution_count": null,
      "outputs": [
        {
          "output_type": "execute_result",
          "data": {
            "text/plain": [
              "Exited\n",
              "0    37.408389\n",
              "1    44.837997\n",
              "Name: Age, dtype: float64"
            ]
          },
          "metadata": {
            "tags": []
          },
          "execution_count": 53
        },
        {
          "output_type": "display_data",
          "data": {
            "image/png": "[encoded data removed]",
            "text/plain": [
              "<Figure size 432x288 with 1 Axes>"
            ]
          },
          "metadata": {
            "tags": [],
            "needs_background": "light"
          }
        }
      ]
    },
    {
      "cell_type": "markdown",
      "metadata": {
        "id": "FOuoo9_pc7xh",
        "colab_type": "text"
      },
      "source": [
        "Observa-se, pelo boxplot, que clientes que cancelaram o serviço têm uma idade maior do que os clientes que não cancelaram o serviço. E ainda analisando o boxplot, observa-se a presença de outliers (pontos discrepantes).\n",
        "\n",
        "Pelo gráfico de dispersão, entre a taxa de Churn e a idade, observa-se  que pessoas entre 50 e 60 anos tem uma alta taxa de Churn e clientes com mais de 75 anos tem risco quase zero de abandonar os serviços bancários.\n",
        "\n",
        "* **Variável Escore de Crédito**"
      ]
    },
    {
      "cell_type": "code",
      "metadata": {
        "id": "3wUV8_V1Al4l",
        "colab_type": "code",
        "colab": {
          "base_uri": "https://localhost:8080/",
          "height": 347
        },
        "outputId": "ae394501-a3d2-45a8-b9d9-9e2913198ba0"
      },
      "source": [
        "#box-plot score do cliente em relação ao churn\n",
        "\n",
        "sns.boxplot(x=\"Exited_cat\", y=\"CreditScore\" , data=df,palette=cols);\n",
        "plt.xlabel('Churn');\n",
        "plt.ylabel('Score de crédito');\n",
        "df.groupby(['Exited'])['CreditScore'].mean()"
      ],
      "execution_count": null,
      "outputs": [
        {
          "output_type": "execute_result",
          "data": {
            "text/plain": [
              "Exited\n",
              "0    651.853196\n",
              "1    645.351497\n",
              "Name: CreditScore, dtype: float64"
            ]
          },
          "metadata": {
            "tags": []
          },
          "execution_count": 54
        },
        {
          "output_type": "display_data",
          "data": {
            "image/png": "[encoded data removed]",
            "text/plain": [
              "<Figure size 432x288 with 1 Axes>"
            ]
          },
          "metadata": {
            "tags": [],
            "needs_background": "light"
          }
        }
      ]
    },
    {
      "cell_type": "code",
      "metadata": {
        "id": "u1WMSYM5nwCm",
        "colab_type": "code",
        "colab": {
          "base_uri": "https://localhost:8080/",
          "height": 312
        },
        "outputId": "8d726ded-3cb9-446e-9ac1-aeaf9fc1a62a"
      },
      "source": [
        "#Número de produtos em relação a variável churn\n",
        "df_plot = df.groupby ('CreditScore'). Exited.mean (). reset_index () \n",
        "\n",
        "x =df_plot['CreditScore']\n",
        "y=df_plot['Exited']\n",
        "plt.scatter(x,y)\n",
        "plt.title('Taxa de Churn em relação ao Score de Crédito')\n",
        "plt.xlabel('Score de Crédito')\n",
        "plt.ylabel('Taxa de Churn')"
      ],
      "execution_count": null,
      "outputs": [
        {
          "output_type": "execute_result",
          "data": {
            "text/plain": [
              "Text(0, 0.5, 'Taxa de Churn')"
            ]
          },
          "metadata": {
            "tags": []
          },
          "execution_count": 58
        },
        {
          "output_type": "display_data",
          "data": {
            "image/png": "[encoded data removed]",
            "text/plain": [
              "<Figure size 432x288 with 1 Axes>"
            ]
          },
          "metadata": {
            "tags": [],
            "needs_background": "light"
          }
        }
      ]
    },
    {
      "cell_type": "markdown",
      "metadata": {
        "id": "Y7pNBXhvoHJt",
        "colab_type": "text"
      },
      "source": [
        "Analisando o boxplot, a variável pontuação de crédito no geral não possui grandes diferença em relação ao Churn de clientes. Porém, o boxplot dos clientes que cancelaram o serviço, possuí observações outliers na parte inferior e um limite inferior menor do que o boxplot dos clientes que não cancelaram o contrato. Indicando assim, que clientes que cancelaram o serviço possuem um score menor do que os clientes que não cancelaram o serviço.\n",
        "\n",
        "Quando observamos o gráfico de dispersão da taxa de Churn em relação a pontuação de crédito, essa evidência fica mais clara, a taxa de Churn é maior entre os clientes com baixo escore de crédito. \n",
        "\n",
        "Ou seja, clientes com alto risco de serem inadimplentes também tem uma propensão maior de Churn."
      ]
    },
    {
      "cell_type": "markdown",
      "metadata": {
        "id": "S8a0es_jrEtq",
        "colab_type": "text"
      },
      "source": [
        "# **Conclusão Parte II - Visualização de Dados**\n",
        "\n",
        "Analisando o histórico de clientes, observamos algumas características entre os clientes que cancelaram o serviço. \n",
        "\n",
        "Observa-se que clientes da Alemanha, do sexo feminino, que não são membro ativo, com alto número de produtos, score de crédito baixo, com saldo bancário elevado e com idade entre 50 e 60 anos têm uma taxa de Churn maior que os outros clientes.\n",
        "\n",
        "Assim, clientes com essas características possui um risco maior de cancelarem o serviço bancário.\n",
        "\n",
        "Nessa parte II, analisamos o perfil dos clientes que deram o Churn. A análise exploratória dos dados se mostrou extremamente útil para identificar o perfil de clientes em evasão dos serviçoes.\n",
        "\n",
        "Na parte III, dessa série de artigos, iremos implementar um modelo de Churn para prever os clientes com um alto risco de Churn.\n",
        "\n",
        "Se ficou com alguma dúvida, deixe seu comentário e não se esqueça de rodar os códigos na sua máquina e começar a desenvolver na prática um projeto de Data Science.\n"
      ]
    }
  ]
}